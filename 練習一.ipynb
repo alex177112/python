{
 "cells": [
  {
   "cell_type": "code",
   "execution_count": 1,
   "metadata": {},
   "outputs": [
    {
     "name": "stdout",
     "output_type": "stream",
     "text": [
      "A為: 4.2 , B為: 2.4\n",
      "\n",
      "Minimum aims為 0.78\n"
     ]
    }
   ],
   "source": [
    "\n",
    "import pulp\n",
    "\n",
    "#Minimize\n",
    "\n",
    "aims = pulp.LpProblem('Minimum',pulp.LpMinimize)\n",
    "\n",
    "#Constraints\n",
    "A = pulp.LpVariable('A',lowBound = 0)\n",
    "B = pulp.LpVariable('B',lowBound = 0)\n",
    "\n",
    "aims += 0.10*A+0.15*B,'Objective Function'\n",
    "aims += 5*A+10*B >= 45\n",
    "aims += 4*A+3*B >= 24 \n",
    "aims += 0.5*A >= 1.5\n",
    "aims += B >= 0\n",
    "\n",
    "aims.solve()\n",
    "\n",
    "#Result\n",
    "print(\"A為:\",pulp.value(A),\", B為:\",pulp.value(B) )\n",
    "print('\\nMinimum aims為',pulp.value(aims.objective))\n"
   ]
  },
  {
   "cell_type": "code",
   "execution_count": null,
   "metadata": {},
   "outputs": [],
   "source": []
  }
 ],
 "metadata": {
  "kernelspec": {
   "display_name": "Python 3",
   "language": "python",
   "name": "python3"
  },
  "language_info": {
   "codemirror_mode": {
    "name": "ipython",
    "version": 3
   },
   "file_extension": ".py",
   "mimetype": "text/x-python",
   "name": "python",
   "nbconvert_exporter": "python",
   "pygments_lexer": "ipython3",
   "version": "3.8.3"
  }
 },
 "nbformat": 4,
 "nbformat_minor": 4
}

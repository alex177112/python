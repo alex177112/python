{
 "cells": [
  {
   "cell_type": "code",
   "execution_count": 5,
   "metadata": {},
   "outputs": [
    {
     "name": "stdout",
     "output_type": "stream",
     "text": [
      "C-30為: 7.5 , C-92為: 15.0\n",
      "D-21為: 0.0 , E-11為: 27.5\n",
      "\n",
      "Minimum cost為 3.35\n"
     ]
    }
   ],
   "source": [
    "import pulp\n",
    "\n",
    "#Minimize\n",
    "cost = pulp.LpProblem('Minimum',pulp.LpMinimize)\n",
    "\n",
    "#Constraints\n",
    "C30 = pulp.LpVariable('C30',lowBound = 0)\n",
    "C92 = pulp.LpVariable('C92',lowBound = 0)\n",
    "D21 = pulp.LpVariable('D21',lowBound = 0)\n",
    "E11 = pulp.LpVariable('E11',lowBound = 0)\n",
    "\n",
    "cost += 0.12*C30+0.09*C92+0.11*D21+0.04*E11,'Objective Function'\n",
    "cost += E11 >= 7.5\n",
    "cost += C30+C92 >= 22.5\n",
    "cost += C92+D21 <= 15\n",
    "cost += C30+C92+D21+E11 == 50\n",
    "\n",
    "cost.solve()\n",
    "\n",
    "#Result\n",
    "print(\"C-30為:\",pulp.value(C30),\", C-92為:\",pulp.value(C92) )\n",
    "print(\"D-21為:\",pulp.value(D21),\", E-11為:\",pulp.value(E11) )\n",
    "print('\\nMinimum cost為',pulp.value(cost.objective))\n"
   ]
  },
  {
   "cell_type": "code",
   "execution_count": null,
   "metadata": {},
   "outputs": [],
   "source": []
  }
 ],
 "metadata": {
  "kernelspec": {
   "display_name": "Python 3",
   "language": "python",
   "name": "python3"
  },
  "language_info": {
   "codemirror_mode": {
    "name": "ipython",
    "version": 3
   },
   "file_extension": ".py",
   "mimetype": "text/x-python",
   "name": "python",
   "nbconvert_exporter": "python",
   "pygments_lexer": "ipython3",
   "version": "3.8.3"
  }
 },
 "nbformat": 4,
 "nbformat_minor": 4
}

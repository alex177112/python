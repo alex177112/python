{
 "cells": [
  {
   "cell_type": "code",
   "execution_count": 3,
   "metadata": {},
   "outputs": [
    {
     "name": "stdout",
     "output_type": "stream",
     "text": [
      "Internet為: 10.0 , Print為: 50.0\n",
      "\n",
      "Maximum review為 6000000.0\n"
     ]
    }
   ],
   "source": [
    "import pulp\n",
    "\n",
    "#Maximize\n",
    "review = pulp.LpProblem('Maximum',pulp.LpMaximize)\n",
    "\n",
    "#Constraints\n",
    "A = pulp.LpVariable('A',lowBound = 0,cat = \"Integer\")\n",
    "B = pulp.LpVariable('B',lowBound = 0,cat = \"Integer\")\n",
    "\n",
    "review += 200000*A+80000*B,'Objective Function'\n",
    "review += 3000*A+900*B <= 75000\n",
    "review += -5*A+1*B <= 0\n",
    "review += A <= 15\n",
    "review += A >= 5\n",
    "\n",
    "review.solve()\n",
    "\n",
    "#Result\n",
    "print(\"Internet為:\",pulp.value(A),\", Print為:\",pulp.value(B) )\n",
    "print('\\nMaximum review為',pulp.value(review.objective))\n"
   ]
  },
  {
   "cell_type": "code",
   "execution_count": null,
   "metadata": {},
   "outputs": [],
   "source": []
  },
  {
   "cell_type": "code",
   "execution_count": null,
   "metadata": {},
   "outputs": [],
   "source": []
  }
 ],
 "metadata": {
  "kernelspec": {
   "display_name": "Python 3",
   "language": "python",
   "name": "python3"
  },
  "language_info": {
   "codemirror_mode": {
    "name": "ipython",
    "version": 3
   },
   "file_extension": ".py",
   "mimetype": "text/x-python",
   "name": "python",
   "nbconvert_exporter": "python",
   "pygments_lexer": "ipython3",
   "version": "3.8.3"
  }
 },
 "nbformat": 4,
 "nbformat_minor": 4
}
